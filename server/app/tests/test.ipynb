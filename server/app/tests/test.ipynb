{
 "cells": [
  {
   "attachments": {},
   "cell_type": "markdown",
   "metadata": {},
   "source": [
    "## RecipeGPT"
   ]
  },
  {
   "attachments": {},
   "cell_type": "markdown",
   "metadata": {},
   "source": [
    "### RecipeImporter"
   ]
  },
  {
   "attachments": {},
   "cell_type": "markdown",
   "metadata": {},
   "source": [
    "#### text_to_recipe"
   ]
  },
  {
   "cell_type": "code",
   "execution_count": 5,
   "metadata": {},
   "outputs": [],
   "source": [
    "import requests,json\n",
    "endpoint = 'http://localhost:8000/gpt/recipes/text_to_recipe'\n",
    "text = \"\"\"【さつまいもと豚こまの炒め物】\n",
    "材料（2人分）\n",
    "・豚こま 150g\n",
    "・さつまいも 1本\n",
    "・にんじん 1本\n",
    "・ピーマン 1個\n",
    "・しめじ 1パック\n",
    "・にんにく 1かけ\n",
    "・サラダ油 大さじ1\n",
    "・A\n",
    "・酒 大さじ1\n",
    "・醤油 大さじ1\n",
    "・みりん 大さじ1\n",
    "作り方\n",
    "さつまいもとにんじんは皮をむき、食べやすい大きさに切る。\n",
    "ピーマンは種を取り、一口大に切る。\n",
    "しめじは小房に分ける。\n",
    "豚こまは一口大に切る。\n",
    "にんにくはみじん切りにする。\n",
    "フライパンに油を熱し、にんにくを入れて香りを出す。\n",
    "豚こまを加えて炒め、色が変わってきたら野菜を加えて炒める。\n",
    "野菜に火が通ったらAを加え、絡めて完成。\"\"\"\n",
    "body = {'text': text}\n",
    "response = requests.post(endpoint, json=body)\n",
    "print(json.dumps(response.json(), indent=4, ensure_ascii=False))"
   ]
  },
  {
   "attachments": {},
   "cell_type": "markdown",
   "metadata": {},
   "source": [
    "#### url_to_recipe"
   ]
  },
  {
   "cell_type": "code",
   "execution_count": 7,
   "metadata": {},
   "outputs": [
    {
     "name": "stdout",
     "output_type": "stream",
     "text": [
      "{'name': '大根の照り焼き炒め', 'description': '大根と豚肉を照り焼き風に炒めた、ご飯のお供にぴったりの簡単な一品です。', 'image': None, 'cooking_time': '20分', 'dish_types': ['主菜', '副菜'], 'cuisine_types': ['日本料理'], 'nutrition': {'calorie': None, 'protein': None, 'lipid': None, 'carbohydrate': None, 'sugar': None, 'dietary_fiber': None, 'salt': None}, 'appliances': ['フライパン', '耐熱ボウル', '電子レンジ'], 'ingredients': [{'name': '大根', 'amount': '150g', 'g': 150}, {'name': '豚バラ肉 (薄切り)', 'amount': '100g', 'g': 100}, {'name': '(A)料理酒', 'amount': '大さじ1', 'g': None}, {'name': '(A)顆粒和風だし', 'amount': '小さじ1/4', 'g': None}, {'name': '(A)みりん', 'amount': '大さじ1', 'g': None}, {'name': '(A)砂糖', 'amount': '小さじ1', 'g': None}, {'name': '(A)しょうゆ', 'amount': '大さじ1.5', 'g': None}, {'name': 'サラダ油', 'amount': '大さじ1', 'g': None}, {'name': '小ねぎ (小口切り)', 'amount': '適量', 'g': None}], 'steps': ['大根は皮をむいておき、1cm幅のいちょう切りにする。', '豚バラ肉は5cm幅に切る。', '耐熱ボウルに1を入れてラップをし、600Wの電子レンジで2分加熱する。', '中火で熱したフライパンにサラダ油をひき、2を入れて炒め、色が変わったら3を入れて炒める。', '大根に油がなじんだら(A)を加えて強火で炒め、とろみがついて照りが出てきたら火から下ろす。', '器に盛り付け、小ねぎを散らして完成する。']}\n"
     ]
    }
   ],
   "source": [
    "import requests,json\n",
    "endpoint = 'http://localhost:8000/gpt/recipes/url_to_recipe'\n",
    "url = 'https://www.kurashiru.com/recipes/6b1dee52-383f-480e-b9c3-962a1951b61c'\n",
    "body = {'url': url}\n",
    "response = requests.post(endpoint, json=body)\n",
    "print(json.dumps(response.json(), indent=4, ensure_ascii=False))"
   ]
  },
  {
   "attachments": {},
   "cell_type": "markdown",
   "metadata": {},
   "source": [
    "#### img_to_recipe"
   ]
  },
  {
   "cell_type": "code",
   "execution_count": 9,
   "metadata": {},
   "outputs": [
    {
     "name": "stdout",
     "output_type": "stream",
     "text": [
      "{\n",
      "    \"name\": \"小松菜と豚バラの塩しょうが蒸し\",\n",
      "    \"description\": \"小松菜をたっぷり使って豚バラと重ねて蒸し焼きにしたシンプルな味つけの料理です。\",\n",
      "    \"image\": null,\n",
      "    \"cooking_time\": \"10分\",\n",
      "    \"dish_types\": [\n",
      "        \"主菜\"\n",
      "    ],\n",
      "    \"cuisine_types\": [],\n",
      "    \"nutrition\": {\n",
      "        \"calorie\": null,\n",
      "        \"protein\": null,\n",
      "        \"lipid\": null,\n",
      "        \"carbohydrate\": null,\n",
      "        \"sugar\": null,\n",
      "        \"dietary_fiber\": null,\n",
      "        \"salt\": null\n",
      "    },\n",
      "    \"appliances\": [\n",
      "        \"フライパン\",\n",
      "        \"蒸し器\"\n",
      "    ],\n",
      "    \"ingredients\": [\n",
      "        {\n",
      "            \"name\": \"豚バラ薄切り肉\",\n",
      "            \"amount\": \"しゃぶしゃぶ用\",\n",
      "            \"g\": null\n",
      "        },\n",
      "        {\n",
      "            \"name\": \"酒\",\n",
      "            \"amount\": \"大さじ3\",\n",
      "            \"g\": null\n",
      "        },\n",
      "        {\n",
      "            \"name\": \"塩\",\n",
      "            \"amount\": \"ひとつまみ\",\n",
      "            \"g\": null\n",
      "        },\n",
      "        {\n",
      "            \"name\": \"小松菜\",\n",
      "            \"amount\": \"1束\",\n",
      "            \"g\": 200\n",
      "        },\n",
      "        {\n",
      "            \"name\": \"しょうが(チューブ)\",\n",
      "            \"amount\": \"小さじ1\",\n",
      "            \"g\": null\n",
      "        },\n",
      "        {\n",
      "            \"name\": \"ごま油\",\n",
      "            \"amount\": \"大さじ1/2\",\n",
      "            \"g\": null\n",
      "        },\n",
      "        {\n",
      "            \"name\": \"白ごま\",\n",
      "            \"amount\": \"適量\",\n",
      "            \"g\": null\n",
      "        },\n",
      "        {\n",
      "            \"name\": \"かつお節\",\n",
      "            \"amount\": \"1袋\",\n",
      "            \"g\": 2.59\n",
      "        },\n",
      "        {\n",
      "            \"name\": \"しょうゆ\",\n",
      "            \"amount\": \"小さじ1\",\n",
      "            \"g\": null\n",
      "        }\n",
      "    ],\n",
      "    \"steps\": [\n",
      "        \"小松菜は3~4cm長さのざく切りにする。\",\n",
      "        \"フライパンにごま油をひいて中火で熱し、豚肉を炒める。\",\n",
      "        \"豚肉の色が8割がた変わったら小松菜を加え、フタをして5分ほど蒸し焼きにする。\",\n",
      "        \"小松菜がしんなりしたらしょうゆを加え、サッと炒める。\",\n",
      "        \"器に盛り、好みで白ごまをふる。\"\n",
      "    ]\n",
      "}\n"
     ]
    }
   ],
   "source": [
    "import requests,json\n",
    "endpoint = 'http://localhost:8000/gpt/recipes/img_to_recipe'\n",
    "url = 'https://www.kurashiru.com/recipes/6b1dee52-383f-480e-b9c3-962a1951b61c'\n",
    "img_obj = {'data': open('../database/images/sample.jpg', 'rb')}\n",
    "response = requests.post(endpoint, files=img_obj)\n",
    "print(json.dumps(response.json(), indent=4, ensure_ascii=False))"
   ]
  },
  {
   "attachments": {},
   "cell_type": "markdown",
   "metadata": {},
   "source": [
    "#### recipe_to_recipe"
   ]
  },
  {
   "cell_type": "code",
   "execution_count": 4,
   "metadata": {},
   "outputs": [
    {
     "name": "stdout",
     "output_type": "stream",
     "text": [
      "{\n",
      "    \"name\": \"大根の照り焼き炒め\",\n",
      "    \"description\": \"大根と豚肉を照り焼き風に炒めた、ご飯のお供にぴったりの簡単な一品です。\",\n",
      "    \"image\": null,\n",
      "    \"cooking_time\": \"20分\",\n",
      "    \"dish_types\": [\n",
      "        \"主菜\",\n",
      "        \"副菜\"\n",
      "    ],\n",
      "    \"cuisine_types\": [\n",
      "        \"日本料理\"\n",
      "    ],\n",
      "    \"nutrition\": {\n",
      "        \"calorie\": null,\n",
      "        \"protein\": null,\n",
      "        \"lipid\": null,\n",
      "        \"carbohydrate\": null,\n",
      "        \"sugar\": null,\n",
      "        \"dietary_fiber\": null,\n",
      "        \"salt\": null\n",
      "    },\n",
      "    \"appliances\": [\n",
      "        \"フライパン\",\n",
      "        \"耐熱ボウル\",\n",
      "        \"電子レンジ\"\n",
      "    ],\n",
      "    \"ingredients\": [\n",
      "        {\n",
      "            \"name\": \"大根\",\n",
      "            \"amount\": \"150g\",\n",
      "            \"g\": 150\n",
      "        },\n",
      "        {\n",
      "            \"name\": \"豚バラ肉 (薄切り)\",\n",
      "            \"amount\": \"100g\",\n",
      "            \"g\": 100\n",
      "        },\n",
      "        {\n",
      "            \"name\": \"(A)料理酒\",\n",
      "            \"amount\": \"大さじ1\",\n",
      "            \"g\": null\n",
      "        },\n",
      "        {\n",
      "            \"name\": \"(A)顆粒和風だし\",\n",
      "            \"amount\": \"小さじ1/4\",\n",
      "            \"g\": null\n",
      "        },\n",
      "        {\n",
      "            \"name\": \"(A)みりん\",\n",
      "            \"amount\": \"大さじ1\",\n",
      "            \"g\": null\n",
      "        },\n",
      "        {\n",
      "            \"name\": \"(A)砂糖\",\n",
      "            \"amount\": \"小さじ1\",\n",
      "            \"g\": null\n",
      "        },\n",
      "        {\n",
      "            \"name\": \"(A)しょうゆ\",\n",
      "            \"amount\": \"大さじ1.5\",\n",
      "            \"g\": null\n",
      "        },\n",
      "        {\n",
      "            \"name\": \"サラダ油\",\n",
      "            \"amount\": \"大さじ1\",\n",
      "            \"g\": null\n",
      "        },\n",
      "        {\n",
      "            \"name\": \"小ねぎ (小口切り)\",\n",
      "            \"amount\": \"適量\",\n",
      "            \"g\": null\n",
      "        }\n",
      "    ],\n",
      "    \"steps\": [\n",
      "        \"大根は皮をむいておき、1cm幅のいちょう切りにする。\",\n",
      "        \"豚バラ肉は5cm幅に切る。\",\n",
      "        \"耐熱ボウルに1を入れてラップをし、600Wの電子レンジで2分加熱する。\",\n",
      "        \"中火で熱したフライパンにサラダ油をひき、2を入れて炒め、色が変わったら3を入れて炒める。\",\n",
      "        \"大根に油がなじんだら(A)を加えて強火で炒め、とろみがついて照りが出てきたら火から下ろす。\",\n",
      "        \"器に盛り付け、小ねぎを散らして完成する。\"\n",
      "    ]\n",
      "}\n"
     ]
    }
   ],
   "source": [
    "import requests,json\n",
    "endpoint = 'http://localhost:8000/gpt/recipes/recipe_to_recipe'\n",
    "recipe_json = {\"name\": \"大根の照り焼き炒め\", \"description\": \"大根と豚肉を照り焼き風に炒めた、ご飯のお供にぴったりの簡単な一品です。\", \"image\": None, \"cooking_time\": \"20分\", \"dish_types\": [\"主菜\", \"副菜\"], \"cuisine_types\": [\"日本料理\"], \"nutrition\": {\"calorie\": None, \"protein\": None, \"lipid\": None, \"carbohydrate\": None, \"sugar\": None, \"dietary_fiber\": None, \"salt\": None}, \"appliances\": [\"フライパン\", \"耐熱ボウル\", \"電子レンジ\"], \"ingredients\": [{\"name\": \"大根\", \"amount\": \"150g\", \"g\": 150}, {\"name\": \"豚バラ肉 (薄切り)\", \"amount\": \"100g\", \"g\": 100}, {\"name\": \"(A)料理酒\", \"amount\": \"大さじ1\", \"g\": None}, {\"name\": \"(A)顆粒和風だし\", \"amount\": \"小さじ1/4\", \"g\": None}, {\"name\": \"(A)みりん\", \"amount\": \"大さじ1\", \"g\": None}, {\"name\": \"(A)砂糖\", \"amount\": \"小さじ1\", \"g\": None}, {\"name\": \"(A)しょうゆ\", \"amount\": \"大さじ1.5\", \"g\": None}, {\"name\": \"サラダ油\", \"amount\": \"大さじ1\", \"g\": None}, {\"name\": \"小ねぎ (小口切り)\", \"amount\": \"適量\", \"g\": None}], \"steps\": [\"大根は皮をむいておき、1cm幅のいちょう切りにする。\", \"豚バラ肉は5cm幅に切る。\", \"耐熱ボウルに1を入れてラップをし、600Wの電子レンジで2分加熱する。\", \"中火で熱したフライパンにサラダ油をひき、2を入れて炒め、色が変わったら3を入れて炒める。\", \"大根に油がなじんだら(A)を加えて強火で炒め、とろみがついて照りが出てきたら火から下ろす。\", \"器に盛り付け、小ねぎを散らして完成する。\"]}\n",
    "body = {'recipe_json': recipe_json}\n",
    "response = requests.post(endpoint, json=body)\n",
    "print(json.dumps(response.json(), indent=4, ensure_ascii=False))"
   ]
  }
 ],
 "metadata": {
  "kernelspec": {
   "display_name": ".venv",
   "language": "python",
   "name": "python3"
  },
  "language_info": {
   "codemirror_mode": {
    "name": "ipython",
    "version": 3
   },
   "file_extension": ".py",
   "mimetype": "text/x-python",
   "name": "python",
   "nbconvert_exporter": "python",
   "pygments_lexer": "ipython3",
   "version": "3.9.7"
  },
  "orig_nbformat": 4
 },
 "nbformat": 4,
 "nbformat_minor": 2
}
