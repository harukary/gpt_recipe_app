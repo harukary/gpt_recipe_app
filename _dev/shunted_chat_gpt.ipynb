{
 "cells": [
  {
   "cell_type": "code",
   "execution_count": 5,
   "metadata": {},
   "outputs": [],
   "source": [
    "import openai, json\n",
    "from functools import reduce  # forward compatibility for Python 3\n",
    "import operator\n",
    "openai_key = open('../open_ai.key','r').read()\n",
    "openai.api_key = openai_key"
   ]
  },
  {
   "cell_type": "code",
   "execution_count": 6,
   "metadata": {},
   "outputs": [],
   "source": [
    "def get_from_dict(dataDict, mapList):\n",
    "    return reduce(operator.getitem, mapList, dataDict)\n",
    "\n",
    "def set_in_dict(dataDict, mapList, message):\n",
    "    get_from_dict(dataDict, mapList[:-1])[mapList[-1]] = {'text': message}\n",
    "    return dataDict\n",
    "\n",
    "def shunted_chat(chat: dict, messages: dict) -> dict:\n",
    "    \"\"\"\n",
    "    対話APIを使って、対話が分流するようなPythonプログラム\n",
    "    \"\"\"\n",
    "    current = chat\n",
    "    past_messages = []\n",
    "    for key in messages['keys']:\n",
    "        current = current[key]\n",
    "        past_messages.append(current['text'])\n",
    "    # print('current:',current)\n",
    "    past_messages.append({'role':'user','content':messages['text']})\n",
    "    q = 'Q' + str(len(current.keys()))\n",
    "    messages['keys'].append(q)\n",
    "    chat = set_in_dict(chat, messages['keys'], {'role':'user','content':messages['text']})\n",
    "    current = current[q]\n",
    "    \n",
    "    # for m in past_messages:\n",
    "    #     print(m)\n",
    "    result = openai.ChatCompletion.create(\n",
    "        model=\"gpt-3.5-turbo\",\n",
    "        messages=past_messages,\n",
    "        max_tokens=100,\n",
    "    )\n",
    "    # print('res:',json.dumps(result,indent=2))\n",
    "    messages['keys'].append('A')\n",
    "    chat = set_in_dict(chat, messages['keys'], result.choices[0]['message'])\n",
    "    # print(messages['keys'])\n",
    "    # print(json.dumps(chat,indent=2))\n",
    "\n",
    "    # messages = [chat[k]['text']['content'] for k in messages['keys'] if ]\n",
    "    chat_history = []\n",
    "    current = chat\n",
    "    for key in messages['keys']:\n",
    "        chat_history.append(current[key]['text']['role']+': '+current[key]['text']['content'].replace('\\n\\n\\n','\\n').replace('\\n\\n','\\n'))\n",
    "        current = current[key]\n",
    "    return chat,chat_history"
   ]
  },
  {
   "cell_type": "code",
   "execution_count": 7,
   "metadata": {},
   "outputs": [],
   "source": [
    "# chat = {\n",
    "#     'setting': {'text': {'role': 'assistant', 'content': 'Hello.'}},\n",
    "#     'Q1': {\n",
    "#         'text': {'role': 'user', 'content': 'Hi, how are you?'},\n",
    "#         'A': {\n",
    "#             'text': {'role': 'assistant', 'content': 'I am fine, thank you.'},\n",
    "#         }\n",
    "#     }\n",
    "# }\n",
    "\n",
    "# chat,history = shunted_chat(chat, {'keys': ['Q1', 'A'], 'text': 'What is your name?'})\n",
    "\n",
    "# for m in history:\n",
    "#     print(m)"
   ]
  },
  {
   "cell_type": "code",
   "execution_count": 8,
   "metadata": {},
   "outputs": [
    {
     "name": "stdout",
     "output_type": "stream",
     "text": [
      "user: さつまいもの調理方法を教えてください。\n",
      "assistant: \n",
      "さつまいもを調理する方法は、以下の通りです。\n",
      "1. さつまいもを洗う：さつまいもを水でよく洗い、汚れや泥を落とします。\n",
      "2. 蒸す：さつまいもを蒸し器に入れ、15～20分程度蒸します。蒸し器がない\n"
     ]
    }
   ],
   "source": [
    "chat = {'setting': {'text': {'role': 'system', 'content': 'あなたは料理研究家です。'}}}\n",
    "chat,history = shunted_chat(chat, {'keys': [], 'text': 'さつまいもの調理方法を教えてください。'})\n",
    "print('\\n'.join(history))\n",
    "# print(json.dumps(chat,indent=2,ensure_ascii=False))"
   ]
  },
  {
   "cell_type": "code",
   "execution_count": 9,
   "metadata": {},
   "outputs": [
    {
     "name": "stdout",
     "output_type": "stream",
     "text": [
      "user: じゃがいもの調理方法を教えてください。\n",
      "assistant: \n",
      "1. 煮る方法：\n",
      "- じゃがいもを洗って皮をむく。\n",
      "- じゃがいもを適当な大きさに切る。\n",
      "- 鍋に水を入れて沸騰させ、そこにじゃがいもを入れる。\n",
      "- じゃがいもが柔らかくなるまで10\n"
     ]
    }
   ],
   "source": [
    "chat,history = shunted_chat(chat, {'keys': [], 'text': 'じゃがいもの調理方法を教えてください。'})\n",
    "print('\\n'.join(history))\n",
    "# print(json.dumps(chat,indent=2,ensure_ascii=False))"
   ]
  },
  {
   "cell_type": "code",
   "execution_count": 10,
   "metadata": {},
   "outputs": [
    {
     "name": "stdout",
     "output_type": "stream",
     "text": [
      "user: さつまいもの調理方法を教えてください。\n",
      "assistant: \n",
      "さつまいもを調理する方法は、以下の通りです。\n",
      "1. さつまいもを洗う：さつまいもを水でよく洗い、汚れや泥を落とします。\n",
      "2. 蒸す：さつまいもを蒸し器に入れ、15～20分程度蒸します。蒸し器がない\n",
      "user: レシピを一つを教えてください。\n",
      "assistant: 「さつまいもの甘煮」\n",
      "【材料】\n",
      "・さつまいも 2本\n",
      "・砂糖 100g\n",
      "・水 200ml\n",
      "・しょうが（1cm程度） 1枚\n",
      "・薄口しょうゆ 大さじ1\n",
      "・黒ゴマ 適量\n",
      "【作り方】\n",
      "1.\n"
     ]
    }
   ],
   "source": [
    "chat,history = shunted_chat(chat, {'keys': ['Q1','A'], 'text': 'レシピを一つを教えてください。'})\n",
    "print('\\n'.join(history))"
   ]
  },
  {
   "cell_type": "code",
   "execution_count": 11,
   "metadata": {},
   "outputs": [
    {
     "name": "stdout",
     "output_type": "stream",
     "text": [
      "user: じゃがいもの調理方法を教えてください。\n",
      "assistant: \n",
      "1. 煮る方法：\n",
      "- じゃがいもを洗って皮をむく。\n",
      "- じゃがいもを適当な大きさに切る。\n",
      "- 鍋に水を入れて沸騰させ、そこにじゃがいもを入れる。\n",
      "- じゃがいもが柔らかくなるまで10\n",
      "user: レシピを一つを教えてください。\n",
      "assistant: ポテトサラダのレシピをお教えします。\n",
      "【材料】\n",
      "・じゃがいも　４個\n",
      "・にんじん　１本\n",
      "・きゅうり　１/２本\n",
      "・玉ねぎ　１/４個\n",
      "・ツナ缶　１缶\n",
      "・マヨネーズ　大さじ３\n",
      "・塩　\n"
     ]
    }
   ],
   "source": [
    "chat,history = shunted_chat(chat, {'keys': ['Q2','A'], 'text': 'レシピを一つを教えてください。'})\n",
    "print('\\n'.join(history))"
   ]
  },
  {
   "cell_type": "code",
   "execution_count": 12,
   "metadata": {},
   "outputs": [
    {
     "name": "stdout",
     "output_type": "stream",
     "text": [
      "setting system: あなたは料理研究家です。\n",
      "Q1 user: さつまいもの調理方法を教えてください。\n",
      "    A assistant: \n",
      "     さつまいもを調理する方法は、以下の通りです。\n",
      "     1. さつまいもを洗う：さつまいもを水でよく洗い、汚れや泥を落とします。\n",
      "     2. 蒸す：さつまいもを蒸し器に入れ、15～20分程度蒸します。蒸し器がない\n",
      "        Q1 user: レシピを一つを教えてください。\n",
      "            A assistant: 「さつまいもの甘煮」\n",
      "             【材料】\n",
      "             ・さつまいも 2本\n",
      "             ・砂糖 100g\n",
      "             ・水 200ml\n",
      "             ・しょうが（1cm程度） 1枚\n",
      "             ・薄口しょうゆ 大さじ1\n",
      "             ・黒ゴマ 適量\n",
      "             【作り方】\n",
      "             1.\n",
      "Q2 user: じゃがいもの調理方法を教えてください。\n",
      "    A assistant: \n",
      "     1. 煮る方法：\n",
      "     - じゃがいもを洗って皮をむく。\n",
      "     - じゃがいもを適当な大きさに切る。\n",
      "     - 鍋に水を入れて沸騰させ、そこにじゃがいもを入れる。\n",
      "     - じゃがいもが柔らかくなるまで10\n",
      "        Q1 user: レシピを一つを教えてください。\n",
      "            A assistant: ポテトサラダのレシピをお教えします。\n",
      "             【材料】\n",
      "             ・じゃがいも　４個\n",
      "             ・にんじん　１本\n",
      "             ・きゅうり　１/２本\n",
      "             ・玉ねぎ　１/４個\n",
      "             ・ツナ缶　１缶\n",
      "             ・マヨネーズ　大さじ３\n",
      "             ・塩　\n"
     ]
    }
   ],
   "source": [
    "def print_chat(d, indent=0):\n",
    "    for key, value in d.items():\n",
    "        # print(key,value)\n",
    "        if isinstance(value, dict):\n",
    "            if 'text' in value.keys():\n",
    "                role = value['text']['role']\n",
    "                content = value['text']['content']\n",
    "                print(' ' * indent + key + ' ' + role + ': ' + content.replace('\\n\\n','\\n').replace('\\n','\\n'+' ' * (indent+1)))\n",
    "                value.pop('text')\n",
    "                print_chat(value, indent+4)\n",
    "            else:\n",
    "                print('?',value)\n",
    "        else:\n",
    "            print('?',value)\n",
    "            role = value['role']\n",
    "            content = value['content']\n",
    "            print(' ' * indent + key + ' ' + role + ': ' + content)\n",
    "\n",
    "print_chat(chat)\n"
   ]
  }
 ],
 "metadata": {
  "kernelspec": {
   "display_name": ".venv",
   "language": "python",
   "name": "python3"
  },
  "language_info": {
   "codemirror_mode": {
    "name": "ipython",
    "version": 3
   },
   "file_extension": ".py",
   "mimetype": "text/x-python",
   "name": "python",
   "nbconvert_exporter": "python",
   "pygments_lexer": "ipython3",
   "version": "3.9.7"
  },
  "orig_nbformat": 4,
  "vscode": {
   "interpreter": {
    "hash": "5253d2c396a382091a0a66691b55be44b6d76bbc93c8eba2a039e23c7d3f1fe3"
   }
  }
 },
 "nbformat": 4,
 "nbformat_minor": 2
}
