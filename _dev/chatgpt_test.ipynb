{
 "cells": [
  {
   "cell_type": "code",
   "execution_count": 1,
   "metadata": {},
   "outputs": [],
   "source": [
    "import sys;sys.path.append('../')\n",
    "from chatgpt import ChatGPT"
   ]
  },
  {
   "cell_type": "code",
   "execution_count": 2,
   "metadata": {},
   "outputs": [],
   "source": [
    "import tiktoken\n",
    "enc = tiktoken.get_encoding(\"gpt2\")"
   ]
  },
  {
   "cell_type": "code",
   "execution_count": 3,
   "metadata": {},
   "outputs": [],
   "source": [
    "openai_key = open('../open_ai.key','r').read()\n",
    "chatgpt = ChatGPT(openai_key,1024)"
   ]
  },
  {
   "cell_type": "code",
   "execution_count": 4,
   "metadata": {},
   "outputs": [],
   "source": [
    "prompt = \"\"\"ChatGPT 研究所\n",
    "キーワードや作者名で検索\n",
    "\n",
    "ログイン\n",
    "会員登録\n",
    "見出し画像\n",
    "ChatGPT APIを使ったLineBotの作り方を、人格の与え方まで完全解説【プログラミング不要】\n",
    "\n",
    "378\n",
    "ChatGPT 研究所\n",
    "ChatGPT 研究所\n",
    "2023年3月2日 08:20\n",
    "\n",
    "\n",
    "\n",
    "本記事では、3月2日に公開された OpenAI の ChatGPT API を使って、LineBot を作ったことがない初心者の人でも、 ChatGPT の Line Bot が作成できる方法をご紹介します。\n",
    "\n",
    "\n",
    "目次\n",
    "ChatGPT API を使った LineBot の作り方のステップバイステップガイド\n",
    "Step 1. Line Developer に登録する\n",
    "Step 2. チャネルを作成する\n",
    "Step 3.  Google Apps Script を作成する\n",
    "Step 4. LINE_ACCESS_TOKEN を入手\n",
    "Step 5. OPENAI_APIKEY を入手\n",
    "Step 6.  Google Apps Script をデプロイする\n",
    "ChatGPT に人格を与えるには？\n",
    "デバッグ方法\n",
    "最後に\n",
    "ChatGPT API を使った LineBot の作り方のステップバイステップガイド\n",
    "Step 1. Line Developer に登録する\n",
    "まずは以下の URL から Line Developer に登録します。\n",
    "\n",
    "LINE Developers\n",
    "LINE Developersサイトは開発者向けのポータルサイトです。LINEのさまざまな開発者向けプロダクトを利用するた\n",
    "developers.line.biz\n",
    "登録が完了したら、プロバイダー名はなんでもいいので、新規プロバイダーを作成します。\n",
    "\n",
    "画像\n",
    "Step 2. チャネルを作成する\n",
    "次にチャネルを作成します。Messaging API を選択します。\n",
    "\n",
    "画像\n",
    "続く画面でもろもろを適当に設定します。\n",
    "チャネル名が、Botの名前になります。\n",
    "チャネルアイコンがBotの画像です。\n",
    "作成できたら、以下のURLから対象のアカウントを選択して自動応答をオフにしておきましょう。また、友達追加時のメッセージもここで編集できます。\n",
    "\n",
    "LINE Business ID\n",
    "manager.line.biz\n",
    "\n",
    "\n",
    "Step 3.  Google Apps Script を作成する\n",
    "以下のサイトにアクセスして、新しいプロジェクトをクリックします。\n",
    "\n",
    "Apps Script – Google Apps Script\n",
    "script.google.com\n",
    "そこに以下のコードを貼り付けます。\n",
    "\n",
    "const LINE_ACCESS_TOKEN = '';\n",
    "const OPENAI_APIKEY = '';\n",
    "\n",
    "function doPost(e) {\n",
    "  const event = JSON.parse(e.postData.contents).events[0];\n",
    "\n",
    "  const replyToken = event.replyToken;\n",
    "  let userMessage = event.message.text;\n",
    "  const url = 'https://api.line.me/v2/bot/message/reply';\n",
    "\n",
    "  if (userMessage === undefined) {\n",
    "    // メッセージ以外(スタンプや画像など)が送られてきた場合\n",
    "    userMessage = '？？？';\n",
    "  }\n",
    "\n",
    "  const prompt = userMessage;\n",
    "  const requestOptions = {\n",
    "    \"method\": \"post\",\n",
    "    \"headers\": {\n",
    "      \"Content-Type\": \"application/json\",\n",
    "      \"Authorization\": \"Bearer \"+ OPENAI_APIKEY\n",
    "    },\n",
    "    \"payload\": JSON.stringify({\n",
    "      \"model\": \"gpt-3.5-turbo\",\n",
    "      \"messages\": [\n",
    "         {\"role\": \"user\", \"content\": prompt}]\n",
    "    })\n",
    "  }\n",
    "  const response = UrlFetchApp.fetch(\"https://api.openai.com/v1/chat/completions\", requestOptions);\n",
    "\n",
    "  const responseText = response.getContentText();\n",
    "  const json = JSON.parse(responseText);\n",
    "  const text = json['choices'][0]['message']['content'].trim();\n",
    "\n",
    "  UrlFetchApp.fetch(url, {\n",
    "    'headers': {\n",
    "      'Content-Type': 'application/json; charset=UTF-8',\n",
    "      'Authorization': 'Bearer ' + LINE_ACCESS_TOKEN,\n",
    "    },\n",
    "    'method': 'post',\n",
    "    'payload': JSON.stringify({\n",
    "      'replyToken': replyToken,\n",
    "      'messages': [{\n",
    "        'type': 'text',\n",
    "        'text': text,\n",
    "      }]\n",
    "    })\n",
    "  });\n",
    "  return ContentService.createTextOutput(JSON.stringify({'content': 'post ok'})).setMimeType(ContentService.MimeType.JSON);\n",
    "}\n",
    "\"\"\""
   ]
  },
  {
   "cell_type": "code",
   "execution_count": 5,
   "metadata": {},
   "outputs": [
    {
     "name": "stdout",
     "output_type": "stream",
     "text": [
      "input: 1537\n",
      "output: 1072 Step 4. LI\n",
      "history: 2609\n"
     ]
    }
   ],
   "source": [
    "print('input:',len(enc.encode(prompt)))\n",
    "response, history = chatgpt.chat(prompt)\n",
    "print('output:',len(enc.encode(response)),response[:10])\n",
    "print('history:',sum([len(enc.encode(h['content'])) for h in history]))"
   ]
  },
  {
   "cell_type": "code",
   "execution_count": 14,
   "metadata": {},
   "outputs": [],
   "source": [
    "prompt = \"\"\"こんにちは。\n",
    "今日の天気を教えてください。\n",
    "\"\"\""
   ]
  },
  {
   "cell_type": "code",
   "execution_count": 15,
   "metadata": {},
   "outputs": [
    {
     "name": "stdout",
     "output_type": "stream",
     "text": [
      "input: 28\n",
      "burst: 3134\n",
      "output: 127 申し訳ありませんが、私は自然言語処理のAIであり、天気予報情報を持っていません。天気予報情報を提供している専門のウェブサイトやアプリケーションを使用することをお勧めします。\n",
      "history: 1724\n"
     ]
    }
   ],
   "source": [
    "print('input:',len(enc.encode(prompt)))\n",
    "response, history = chatgpt.chat(prompt)\n",
    "print('output:',len(enc.encode(response)),response)\n",
    "print('history:',sum([len(enc.encode(h['content'])) for h in history]))"
   ]
  }
 ],
 "metadata": {
  "kernelspec": {
   "display_name": ".venv",
   "language": "python",
   "name": "python3"
  },
  "language_info": {
   "codemirror_mode": {
    "name": "ipython",
    "version": 3
   },
   "file_extension": ".py",
   "mimetype": "text/x-python",
   "name": "python",
   "nbconvert_exporter": "python",
   "pygments_lexer": "ipython3",
   "version": "3.9.7"
  },
  "orig_nbformat": 4,
  "vscode": {
   "interpreter": {
    "hash": "50923522f41d4bdc63bd724e8aefd24d8ff7da8a50c74efd08da04c5cdd1dd94"
   }
  }
 },
 "nbformat": 4,
 "nbformat_minor": 2
}
