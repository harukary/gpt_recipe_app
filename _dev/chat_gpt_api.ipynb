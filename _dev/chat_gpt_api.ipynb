{
 "cells": [
  {
   "cell_type": "code",
   "execution_count": 1,
   "metadata": {},
   "outputs": [],
   "source": [
    "# !pip install openai"
   ]
  },
  {
   "cell_type": "code",
   "execution_count": 2,
   "metadata": {},
   "outputs": [],
   "source": [
    "openai_key = open('../open_ai.key','r').read()\n",
    "# print(openai_key)"
   ]
  },
  {
   "cell_type": "code",
   "execution_count": 3,
   "metadata": {},
   "outputs": [],
   "source": [
    "import openai\n",
    "openai.api_key = openai_key\n",
    "def completion(new_message_text:str, settings_text:str = '', past_messages:list = []):\n",
    "    \"\"\"\n",
    "    new_message_text: str ユーザ入力\n",
    "    settings_text: str システム設定（ChatGPTのふるまいを指定する文言）\n",
    "    past_messages: list ユーザとシステムのやりとりの履歴\n",
    "    \"\"\"\n",
    "    if len(past_messages) == 0 and len(settings_text) != 0:\n",
    "        system = {\"role\": \"system\", \"content\": settings_text}\n",
    "        past_messages.append(system)\n",
    "    new_message = {\"role\": \"user\", \"content\": new_message_text}\n",
    "    past_messages.append(new_message)\n",
    "\n",
    "    result = openai.ChatCompletion.create(\n",
    "        model=\"gpt-3.5-turbo\",\n",
    "        messages=past_messages\n",
    "    )\n",
    "    response_message = {\"role\": \"assistant\", \"content\": result.choices[0].message.content}\n",
    "    past_messages.append(response_message)\n",
    "    response_message_text = result.choices[0].message.content\n",
    "    return response_message_text, past_messages"
   ]
  },
  {
   "cell_type": "code",
   "execution_count": 4,
   "metadata": {},
   "outputs": [],
   "source": [
    "import json\n",
    "recipe_format = json.dumps({\n",
    "    \"title\": \"\",\n",
    "    \"ingredients\": [\n",
    "        {\"name\": \"\", \"amount\": \"\"},\n",
    "    ],\n",
    "    \"appliances\": [\"\"],\n",
    "    \"steps\": [\"\"],\n",
    "    \"cooking_time\": \"\",\n",
    "    \"junre\": [\"\"],\n",
    "    \"nutrition\": {\n",
    "        \"calorie\": 0.0,\n",
    "        \"protein\": 0.0,\n",
    "        \"fat\": 0.0,\n",
    "        \"carbohydrate\": 0.0,\n",
    "        \"sodium\": 0.0,\n",
    "        \"vitamin_a\": 0.0,\n",
    "        \"vitamin_b1\": 0.0,\n",
    "        \"vitamin_b2\": 0.0,\n",
    "        \"vitamin_c\": 0.0,\n",
    "        \"vitamin_e\": 0.0,\n",
    "        \"vitamin_k\": 0.0,\n",
    "        \"vitamin_pp\": 0.0,\n",
    "        \"vitamin_b6\": 0.0,\n",
    "        \"vitamin_b12\": 0.0,\n",
    "        \"vitamin_d\": 0.0,\n",
    "    },\n",
    "})\n"
   ]
  },
  {
   "cell_type": "code",
   "execution_count": 5,
   "metadata": {},
   "outputs": [],
   "source": [
    "system_settings = \"\"\"レシピテキストをJson形式のレシピデータを生成してください。\n",
    "では、会話を開始します。\n",
    "\"\"\""
   ]
  },
  {
   "cell_type": "code",
   "execution_count": 6,
   "metadata": {},
   "outputs": [
    {
     "name": "stdout",
     "output_type": "stream",
     "text": [
      "こんにちは、何かお手伝いできることはありますか？\n"
     ]
    }
   ],
   "source": [
    "new_message, messages = completion(\"こんにちは\", system_settings, [])\n",
    "print(new_message)\n"
   ]
  },
  {
   "cell_type": "code",
   "execution_count": 8,
   "metadata": {},
   "outputs": [
    {
     "name": "stdout",
     "output_type": "stream",
     "text": [
      "はい、以下にさつまいもを使ったレシピと栄養成分を記載したJsonデータを生成します。\n",
      "\n",
      "【さつまいもの煮物】\n",
      "\n",
      "{\"title\": \"さつまいもの煮物\", \n",
      " \"ingredients\": [\n",
      "   {\"name\": \"さつまいも\", \"amount\": \"400g\"}, \n",
      "   {\"name\": \"水\", \"amount\": \"200ml\"}, \n",
      "   {\"name\": \"醤油\", \"amount\": \"大さじ1\"}, \n",
      "   {\"name\": \"砂糖\", \"amount\": \"大さじ1\"}\n",
      " ], \n",
      " \"appliances\": [\"鍋\"], \n",
      " \"steps\": [\n",
      "   \"1. さつまいもを皮をむき、4等分に切る\",\n",
      "   \"2. 鍋に水、醤油、砂糖を入れ火にかけ、沸騰したらさつまいもを入れる\",\n",
      "   \"3. さつまいもが柔らかくなるまで弱火で煮る\"\n",
      " ], \n",
      " \"cooking_time\": \"30分\", \n",
      " \"junre\": [\"煮物\"], \n",
      " \"nutrition\": {\n",
      "   \"calorie\": 207.8, \n",
      "   \"protein\": 2.1, \n",
      "   \"fat\": 0.2, \n",
      "   \"carbohydrate\": 49.2, \n",
      "   \"sodium\": 334.3, \n",
      "   \"vitamin_a\": 20, \n",
      "   \"vitamin_b1\": 0.16, \n",
      "   \"vitamin_b2\": 0.1, \n",
      "   \"vitamin_c\": 19, \n",
      "   \"vitamin_e\": 0.4, \n",
      "   \"vitamin_k\": 2.9, \n",
      "   \"vitamin_pp\": 1.8, \n",
      "   \"vitamin_b6\": 0.32, \n",
      "   \"vitamin_b12\": 0, \n",
      "   \"vitamin_d\": 0\n",
      " }\n",
      "}\n",
      "\n",
      "このレシピでは、400gのさつまいもを使用し、水・醤油・砂糖を加えた煮汁でさつまいもを柔らかく煮ます。煮物のジャンルで、30分かかります。\n",
      "また、さつまいもの栄養成分を含むJsonデータも含まれています。\n"
     ]
    }
   ],
   "source": [
    "new_message, messages = completion(\n",
    "    f\"さつまいもを使ったレシピの例と、栄養成分を教えてください。以下のJsonフォーマットに従って整形してください。\\n{recipe_format}\",\n",
    "    system_settings, messages)\n",
    "print(new_message)"
   ]
  }
 ],
 "metadata": {
  "kernelspec": {
   "display_name": ".venv",
   "language": "python",
   "name": "python3"
  },
  "language_info": {
   "codemirror_mode": {
    "name": "ipython",
    "version": 3
   },
   "file_extension": ".py",
   "mimetype": "text/x-python",
   "name": "python",
   "nbconvert_exporter": "python",
   "pygments_lexer": "ipython3",
   "version": "3.9.7"
  },
  "orig_nbformat": 4,
  "vscode": {
   "interpreter": {
    "hash": "9a196dbc33342f67c01613a745ffdb34d35e1de6e0c43cc905192f4a5259ea38"
   }
  }
 },
 "nbformat": 4,
 "nbformat_minor": 2
}
