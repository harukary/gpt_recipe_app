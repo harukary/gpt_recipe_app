{
 "cells": [
  {
   "cell_type": "code",
   "execution_count": 1,
   "metadata": {},
   "outputs": [],
   "source": [
    "# !pip install openai"
   ]
  },
  {
   "cell_type": "code",
   "execution_count": 2,
   "metadata": {},
   "outputs": [],
   "source": [
    "# !pip freeze"
   ]
  },
  {
   "cell_type": "code",
   "execution_count": 2,
   "metadata": {},
   "outputs": [],
   "source": [
    "openai_key = open('../open_ai.key','r').read()\n",
    "# print(openai_key)"
   ]
  },
  {
   "cell_type": "code",
   "execution_count": 3,
   "metadata": {},
   "outputs": [],
   "source": [
    "import openai\n",
    "openai.api_key = openai_key\n",
    "def completion(new_message_text:str, settings_text:str = '', past_messages:list = []):\n",
    "    \"\"\"\n",
    "    new_message_text: str ユーザ入力\n",
    "    settings_text: str システム設定（ChatGPTのふるまいを指定する文言）\n",
    "    past_messages: list ユーザとシステムのやりとりの履歴\n",
    "    \"\"\"\n",
    "    if len(past_messages) == 0 and len(settings_text) != 0:\n",
    "        system = {\"role\": \"system\", \"content\": settings_text}\n",
    "        past_messages.append(system)\n",
    "    new_message = {\"role\": \"user\", \"content\": new_message_text}\n",
    "    past_messages.append(new_message)\n",
    "\n",
    "    result = openai.ChatCompletion.create(\n",
    "        model=\"gpt-3.5-turbo\",\n",
    "        messages=past_messages\n",
    "    )\n",
    "    response_message = {\"role\": \"assistant\", \"content\": result.choices[0].message.content}\n",
    "    past_messages.append(response_message)\n",
    "    response_message_text = result.choices[0].message.content\n",
    "    return response_message_text, past_messages"
   ]
  },
  {
   "cell_type": "code",
   "execution_count": 4,
   "metadata": {},
   "outputs": [],
   "source": [
    "import json\n",
    "recipe_format = json.dumps({\n",
    "    \"title\": \"\",\n",
    "    \"ingredients\": [\n",
    "        {\"name\": \"\", \"amount\": \"\"},\n",
    "    ],\n",
    "    \"appliances\": [\"\"],\n",
    "    \"steps\": [\"\"],\n",
    "    \"cooking_time\": \"\",\n",
    "    \"junre\": [\"\"],\n",
    "    \"nutrition\": {\n",
    "        \"calorie\": 0.0,\n",
    "        \"protein\": 0.0,\n",
    "        \"fat\": 0.0,\n",
    "        \"carbohydrate\": 0.0,\n",
    "        \"sodium\": 0.0,\n",
    "    },\n",
    "})\n"
   ]
  },
  {
   "cell_type": "code",
   "execution_count": 5,
   "metadata": {},
   "outputs": [],
   "source": [
    "system_settings = \"\"\"レシピテキストをJson形式のレシピデータを生成してください。\n",
    "では、会話を開始します。\n",
    "\"\"\""
   ]
  },
  {
   "cell_type": "code",
   "execution_count": 6,
   "metadata": {},
   "outputs": [
    {
     "name": "stdout",
     "output_type": "stream",
     "text": [
      "こんにちは！レシピデータの生成についてお手伝いします。どのようなレシピデータを作成したいですか？\n"
     ]
    }
   ],
   "source": [
    "new_message, messages = completion(\"こんにちは\", system_settings, [])\n",
    "print(new_message)\n"
   ]
  },
  {
   "cell_type": "code",
   "execution_count": 7,
   "metadata": {},
   "outputs": [
    {
     "name": "stdout",
     "output_type": "stream",
     "text": [
      "ありがとうございます。以下は「さつまいもの甘煮」のレシピデータです。栄養成分も含めて記載しています。\n",
      "\n",
      "```\n",
      "{\n",
      "    \"title\": \"さつまいもの甘煮\",\n",
      "    \"ingredients\": [\n",
      "        {\"name\": \"さつまいも\", \"amount\": \"4本\"},\n",
      "        {\"name\": \"水\", \"amount\": \"300ml\"},\n",
      "        {\"name\": \"砂糖\", \"amount\": \"100g\"}\n",
      "    ],\n",
      "    \"appliances\": [\"鍋\"],\n",
      "    \"steps\": [\n",
      "        \"1. さつまいもは皮をむき、一口大に切る。\",\n",
      "        \"2. 鍋に水を入れ、火にかける。沸騰したらさつまいもを加え、中火で10分程度煮る。\",\n",
      "        \"3. 砂糖を加え、弱火でさつまいもが柔らかくなるまで10分程度煮る。\"\n",
      "    ],\n",
      "    \"cooking_time\": \"20分\",\n",
      "    \"junre\": [\"和食\"],\n",
      "    \"nutrition\": {\n",
      "        \"calorie\": 317.8,\n",
      "        \"protein\": 2.0,\n",
      "        \"fat\": 0.4,\n",
      "        \"carbohydrate\": 77.1,\n",
      "        \"sodium\": 11.5\n",
      "    }\n",
      "}\n",
      "```\n",
      "\n",
      "なお、栄養成分値は以下のサイトを参考に算出しました。\n",
      "\n",
      "出典：「さつまいもの栄養成分は？食べ方と保存のポイントも」https://fooddb.mext.go.jp/details/details.pl?ITEM_NO=113007&MODE=0&CATEGORY=XXX870XXX&JNAME=%E3%81%95%E3%81%A4%E3%81%BE%E3%81%84%E3%82%82&LANG=ja\n"
     ]
    }
   ],
   "source": [
    "new_message, messages = completion(\n",
    "    f\"さつまいもを使ったレシピの例と、栄養成分を教えてください。以下のJsonフォーマットに従って整形してください。\\n{recipe_format}\",\n",
    "    system_settings, messages)\n",
    "print(new_message)"
   ]
  }
 ],
 "metadata": {
  "kernelspec": {
   "display_name": ".venv",
   "language": "python",
   "name": "python3"
  },
  "language_info": {
   "codemirror_mode": {
    "name": "ipython",
    "version": 3
   },
   "file_extension": ".py",
   "mimetype": "text/x-python",
   "name": "python",
   "nbconvert_exporter": "python",
   "pygments_lexer": "ipython3",
   "version": "3.9.7"
  },
  "orig_nbformat": 4,
  "vscode": {
   "interpreter": {
    "hash": "9a196dbc33342f67c01613a745ffdb34d35e1de6e0c43cc905192f4a5259ea38"
   }
  }
 },
 "nbformat": 4,
 "nbformat_minor": 2
}
