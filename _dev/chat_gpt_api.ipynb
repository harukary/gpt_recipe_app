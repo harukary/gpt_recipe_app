{
 "cells": [
  {
   "cell_type": "code",
   "execution_count": 8,
   "metadata": {},
   "outputs": [],
   "source": [
    "# !pip install openai"
   ]
  },
  {
   "cell_type": "code",
   "execution_count": 9,
   "metadata": {},
   "outputs": [],
   "source": [
    "openai_key = open('../open_ai.key','r').read()\n",
    "# print(openai_key)"
   ]
  },
  {
   "cell_type": "code",
   "execution_count": 10,
   "metadata": {},
   "outputs": [],
   "source": [
    "import openai\n",
    "openai.api_key = openai_key\n",
    "def completion(new_message_text:str, settings_text:str = '', past_messages:list = []):\n",
    "    \"\"\"\n",
    "    new_message_text: str ユーザ入力\n",
    "    settings_text: str システム設定（ChatGPTのふるまいを指定する文言）\n",
    "    past_messages: list ユーザとシステムのやりとりの履歴\n",
    "    \"\"\"\n",
    "    if len(past_messages) == 0 and len(settings_text) != 0:\n",
    "        system = {\"role\": \"system\", \"content\": settings_text}\n",
    "        past_messages.append(system)\n",
    "    new_message = {\"role\": \"user\", \"content\": new_message_text}\n",
    "    past_messages.append(new_message)\n",
    "\n",
    "    result = openai.ChatCompletion.create(\n",
    "        model=\"gpt-3.5-turbo\",\n",
    "        messages=past_messages\n",
    "    )\n",
    "    response_message = {\"role\": \"assistant\", \"content\": result.choices[0].message.content}\n",
    "    past_messages.append(response_message)\n",
    "    response_message_text = result.choices[0].message.content\n",
    "    return response_message_text, past_messages"
   ]
  },
  {
   "cell_type": "code",
   "execution_count": 11,
   "metadata": {},
   "outputs": [],
   "source": [
    "import json\n",
    "recipe_format = json.dumps({\n",
    "    \"title\": \"\",\n",
    "    \"ingredients\": [\n",
    "        {\"name\": \"\", \"amount\": \"\"},\n",
    "    ],\n",
    "    \"appliances\": [\"\"],\n",
    "    \"steps\": [\"\"],\n",
    "    \"cooking_time\": \"\",\n",
    "    \"junre\": [\"\"],\n",
    "    \"nutrition\": {\n",
    "        \"calorie\": 0.0,\n",
    "        \"protein\": 0.0,\n",
    "        \"fat\": 0.0,\n",
    "        \"carbohydrate\": 0.0,\n",
    "        \"sodium\": 0.0,\n",
    "    },\n",
    "})\n"
   ]
  },
  {
   "cell_type": "code",
   "execution_count": 12,
   "metadata": {},
   "outputs": [],
   "source": [
    "system_settings = \"\"\"レシピテキストをJson形式のレシピデータを生成してください。\n",
    "では、会話を開始します。\n",
    "\"\"\""
   ]
  },
  {
   "cell_type": "code",
   "execution_count": 13,
   "metadata": {},
   "outputs": [
    {
     "name": "stdout",
     "output_type": "stream",
     "text": [
      "こんにちは！レシピデータを生成するために何が必要ですか？\n"
     ]
    }
   ],
   "source": [
    "new_message, messages = completion(\"こんにちは\", system_settings, [])\n",
    "print(new_message)\n"
   ]
  },
  {
   "cell_type": "code",
   "execution_count": 14,
   "metadata": {},
   "outputs": [
    {
     "name": "stdout",
     "output_type": "stream",
     "text": [
      "了解しました。以下は、「さつまいもの天ぷら」のレシピデータです。\n",
      "\n",
      "```\n",
      "{\n",
      "  \"title\": \"さつまいもの天ぷら\",\n",
      "  \"ingredients\": [\n",
      "    {\"name\": \"さつまいも\", \"amount\": \"2本\"},\n",
      "    {\"name\": \"小麦粉\", \"amount\": \"大さじ1と1/2\"},\n",
      "    {\"name\": \"揚げ油\", \"amount\": \"適量\"},\n",
      "    {\"name\": \"水\", \"amount\": \"100ml\"}\n",
      "  ],\n",
      "  \"appliances\": [\n",
      "    \"フライパン\"\n",
      "  ],\n",
      "  \"steps\": [\n",
      "    \"さつまいもは皮をむいて薄くスライスし、水にさらして水気を切る。\",\n",
      "    \"小麦粉と100mlの水を混ぜ合わせる。\",\n",
      "    \"フライパンに油を入れ、180℃に加熱する。\",\n",
      "    \"さつまいもを小麦粉の衣をつけて、フライパンに並べる。\",\n",
      "    \"衣がカリッとするまで揚げ、キッチンペーパーで油をきる。\"\n",
      "  ],\n",
      "  \"cooking_time\": \"30分\",\n",
      "  \"junre\": [\n",
      "    \"揚げ物\",\n",
      "    \"簡単\"\n",
      "  ],\n",
      "  \"nutrition\": {\n",
      "    \"calorie\": 217.2,\n",
      "    \"protein\": 2.0,\n",
      "    \"fat\": 12.4,\n",
      "    \"carbohydrate\": 25.3,\n",
      "    \"sodium\": 64.3\n",
      "  }\n",
      "}\n",
      "```\n",
      "\n",
      "このレシピは、2本のさつまいもを使って作る天ぷらです。栄養成分は、1人分の値になっています。天ぷらは油で揚げるため、カロリーや脂質が比較的高めになる傾向があります。\n",
      "\n",
      "お役に立てれば幸いです！\n"
     ]
    }
   ],
   "source": [
    "new_message, messages = completion(\n",
    "    f\"さつまいもを使ったレシピの例と、栄養成分を教えてください。以下のJsonフォーマットに従って整形してください。\\n{recipe_format}\",\n",
    "    system_settings, messages)\n",
    "print(new_message)"
   ]
  }
 ],
 "metadata": {
  "kernelspec": {
   "display_name": ".venv",
   "language": "python",
   "name": "python3"
  },
  "language_info": {
   "codemirror_mode": {
    "name": "ipython",
    "version": 3
   },
   "file_extension": ".py",
   "mimetype": "text/x-python",
   "name": "python",
   "nbconvert_exporter": "python",
   "pygments_lexer": "ipython3",
   "version": "3.9.7"
  },
  "orig_nbformat": 4,
  "vscode": {
   "interpreter": {
    "hash": "9a196dbc33342f67c01613a745ffdb34d35e1de6e0c43cc905192f4a5259ea38"
   }
  }
 },
 "nbformat": 4,
 "nbformat_minor": 2
}
