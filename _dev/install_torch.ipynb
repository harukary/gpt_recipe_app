{
 "cells": [
  {
   "cell_type": "code",
   "execution_count": 1,
   "metadata": {},
   "outputs": [
    {
     "name": "stdout",
     "output_type": "stream",
     "text": [
      "Looking in links: https://download.pytorch.org/whl/cu113/torch_stable.html\n",
      "Collecting torch==1.10.2+cu113\n",
      "  Using cached https://download.pytorch.org/whl/cu113/torch-1.10.2%2Bcu113-cp39-cp39-linux_x86_64.whl (1821.4 MB)\n",
      "Collecting torchtext\n",
      "  Using cached torchtext-0.14.1-cp39-cp39-manylinux1_x86_64.whl (2.0 MB)\n",
      "Collecting torchvision==0.11.3+cu113\n",
      "  Using cached https://download.pytorch.org/whl/cu113/torchvision-0.11.3%2Bcu113-cp39-cp39-linux_x86_64.whl (24.5 MB)\n",
      "Collecting torchaudio==0.10.2+cu113\n",
      "  Using cached https://download.pytorch.org/whl/cu113/torchaudio-0.10.2%2Bcu113-cp39-cp39-linux_x86_64.whl (2.9 MB)\n",
      "Requirement already satisfied: typing-extensions in /home/y3nyx/kitchen_ws/gpt_recipe_app/.venv/lib/python3.9/site-packages (from torch==1.10.2+cu113) (4.5.0)\n",
      "Requirement already satisfied: numpy in /home/y3nyx/kitchen_ws/gpt_recipe_app/.venv/lib/python3.9/site-packages (from torchvision==0.11.3+cu113) (1.24.2)\n",
      "Requirement already satisfied: pillow!=8.3.0,>=5.3.0 in /home/y3nyx/kitchen_ws/gpt_recipe_app/.venv/lib/python3.9/site-packages (from torchvision==0.11.3+cu113) (9.4.0)\n",
      "Collecting torchtext\n",
      "  Using cached torchtext-0.14.0-cp39-cp39-manylinux1_x86_64.whl (2.0 MB)\n",
      "  Using cached torchtext-0.13.1-cp39-cp39-manylinux1_x86_64.whl (1.9 MB)\n",
      "  Using cached torchtext-0.13.0-cp39-cp39-manylinux1_x86_64.whl (1.9 MB)\n",
      "  Using cached torchtext-0.12.0-cp39-cp39-manylinux1_x86_64.whl (10.4 MB)\n",
      "  Using cached torchtext-0.11.2-cp39-cp39-manylinux1_x86_64.whl (8.0 MB)\n",
      "Requirement already satisfied: tqdm in /home/y3nyx/kitchen_ws/gpt_recipe_app/.venv/lib/python3.9/site-packages (from torchtext) (4.64.1)\n",
      "Requirement already satisfied: requests in /home/y3nyx/kitchen_ws/gpt_recipe_app/.venv/lib/python3.9/site-packages (from torchtext) (2.28.2)\n",
      "Requirement already satisfied: idna<4,>=2.5 in /home/y3nyx/kitchen_ws/gpt_recipe_app/.venv/lib/python3.9/site-packages (from requests->torchtext) (3.4)\n",
      "Requirement already satisfied: charset-normalizer<4,>=2 in /home/y3nyx/kitchen_ws/gpt_recipe_app/.venv/lib/python3.9/site-packages (from requests->torchtext) (3.0.1)\n",
      "Requirement already satisfied: urllib3<1.27,>=1.21.1 in /home/y3nyx/kitchen_ws/gpt_recipe_app/.venv/lib/python3.9/site-packages (from requests->torchtext) (1.26.14)\n",
      "Requirement already satisfied: certifi>=2017.4.17 in /home/y3nyx/kitchen_ws/gpt_recipe_app/.venv/lib/python3.9/site-packages (from requests->torchtext) (2022.12.7)\n",
      "Installing collected packages: torch, torchvision, torchtext, torchaudio\n",
      "  Attempting uninstall: torch\n",
      "    Found existing installation: torch 1.13.1\n",
      "    Uninstalling torch-1.13.1:\n",
      "      Successfully uninstalled torch-1.13.1\n",
      "  Attempting uninstall: torchvision\n",
      "    Found existing installation: torchvision 0.14.1\n",
      "    Uninstalling torchvision-0.14.1:\n",
      "      Successfully uninstalled torchvision-0.14.1\n",
      "Successfully installed torch-1.10.2+cu113 torchaudio-0.10.2+cu113 torchtext-0.11.2 torchvision-0.11.3+cu113\n"
     ]
    }
   ],
   "source": [
    "!pip install torch==1.10.2+cu113 torchtext torchvision==0.11.3+cu113 torchaudio==0.10.2+cu113 -f https://download.pytorch.org/whl/cu113/torch_stable.html"
   ]
  },
  {
   "cell_type": "code",
   "execution_count": 2,
   "metadata": {},
   "outputs": [
    {
     "name": "stdout",
     "output_type": "stream",
     "text": [
      "PyTorch == 1.10.2+cu113\n",
      "CUDA available False\n",
      "CUDA == 11.3\n",
      "1.10.2 cu113\n"
     ]
    }
   ],
   "source": [
    "import torch\n",
    "print(\"PyTorch ==\", torch.__version__)\n",
    "print(\"CUDA available\", torch.cuda.is_available())\n",
    "print(\"CUDA ==\", torch.version.cuda)\n",
    "\n",
    "def format_pytorch_version(version):\n",
    "  return version.split('+')[0]\n",
    "\n",
    "TORCH_version = torch.__version__\n",
    "TORCH = format_pytorch_version(TORCH_version)\n",
    "\n",
    "def format_cuda_version(version):\n",
    "  return 'cu' + version.replace('.', '')\n",
    "\n",
    "CUDA_version = torch.version.cuda\n",
    "CUDA = format_cuda_version(CUDA_version)\n",
    "\n",
    "print(TORCH,CUDA)"
   ]
  },
  {
   "cell_type": "code",
   "execution_count": 3,
   "metadata": {},
   "outputs": [],
   "source": [
    "# !pip install torch-scatter     -f https://pytorch-geometric.com/whl/torch-{TORCH}+{CUDA}.html\n",
    "# !pip install torch-sparse      -f https://pytorch-geometric.com/whl/torch-{TORCH}+{CUDA}.html\n",
    "# !pip install torch-geometric"
   ]
  },
  {
   "cell_type": "code",
   "execution_count": 4,
   "metadata": {},
   "outputs": [],
   "source": [
    "# !pip install torch-cluster      -f https://pytorch-geometric.com/whl/torch-{TORCH}+{CUDA}.html"
   ]
  },
  {
   "cell_type": "code",
   "execution_count": 5,
   "metadata": {},
   "outputs": [],
   "source": [
    "# exist = !which ffmpeg\n",
    "# if not exist:\n",
    "#   !curl https://johnvansickle.com/ffmpeg/releases/ffmpeg-release-amd64-static.tar.xz -o ffmpeg.tar.xz && tar -xf ffmpeg.tar.xz && rm ffmpeg.tar.xz\n",
    "#   ffmdir = !find . -iname ffmpeg-*-static\n",
    "#   path = %env PATH\n",
    "#   path = path + ':' + ffmdir[0]\n",
    "#   %env PATH $path\n",
    "# print('')\n",
    "# !which ffmpeg\n",
    "# print('Done!')"
   ]
  }
 ],
 "metadata": {
  "kernelspec": {
   "display_name": ".venv",
   "language": "python",
   "name": "python3"
  },
  "language_info": {
   "codemirror_mode": {
    "name": "ipython",
    "version": 3
   },
   "file_extension": ".py",
   "mimetype": "text/x-python",
   "name": "python",
   "nbconvert_exporter": "python",
   "pygments_lexer": "ipython3",
   "version": "3.9.7"
  },
  "orig_nbformat": 4,
  "vscode": {
   "interpreter": {
    "hash": "5253d2c396a382091a0a66691b55be44b6d76bbc93c8eba2a039e23c7d3f1fe3"
   }
  }
 },
 "nbformat": 4,
 "nbformat_minor": 2
}
