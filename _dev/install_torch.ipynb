{
 "cells": [
  {
   "cell_type": "code",
   "execution_count": 1,
   "metadata": {},
   "outputs": [
    {
     "name": "stdout",
     "output_type": "stream",
     "text": [
      "Looking in indexes: https://pypi.org/simple, https://pypi.ngc.nvidia.com\n",
      "Looking in links: https://download.pytorch.org/whl/cu113/torch_stable.html\n",
      "Requirement already satisfied: torch==1.10.2+cu113 in /home/harukary/workspace/gpt_recipe_app/.venv/lib/python3.9/site-packages (1.10.2+cu113)\n",
      "Requirement already satisfied: torchtext in /home/harukary/workspace/gpt_recipe_app/.venv/lib/python3.9/site-packages (0.11.2)\n",
      "Requirement already satisfied: torchvision==0.11.3+cu113 in /home/harukary/workspace/gpt_recipe_app/.venv/lib/python3.9/site-packages (0.11.3+cu113)\n",
      "Requirement already satisfied: torchaudio==0.10.2+cu113 in /home/harukary/workspace/gpt_recipe_app/.venv/lib/python3.9/site-packages (0.10.2+cu113)\n",
      "Requirement already satisfied: typing-extensions in /home/harukary/workspace/gpt_recipe_app/.venv/lib/python3.9/site-packages (from torch==1.10.2+cu113) (4.5.0)\n",
      "Requirement already satisfied: pillow!=8.3.0,>=5.3.0 in /home/harukary/workspace/gpt_recipe_app/.venv/lib/python3.9/site-packages (from torchvision==0.11.3+cu113) (9.4.0)\n",
      "Requirement already satisfied: numpy in /home/harukary/workspace/gpt_recipe_app/.venv/lib/python3.9/site-packages (from torchvision==0.11.3+cu113) (1.24.2)\n",
      "Requirement already satisfied: requests in /home/harukary/workspace/gpt_recipe_app/.venv/lib/python3.9/site-packages (from torchtext) (2.28.2)\n",
      "Requirement already satisfied: tqdm in /home/harukary/workspace/gpt_recipe_app/.venv/lib/python3.9/site-packages (from torchtext) (4.64.1)\n",
      "Requirement already satisfied: urllib3<1.27,>=1.21.1 in /home/harukary/workspace/gpt_recipe_app/.venv/lib/python3.9/site-packages (from requests->torchtext) (1.26.14)\n",
      "Requirement already satisfied: certifi>=2017.4.17 in /home/harukary/workspace/gpt_recipe_app/.venv/lib/python3.9/site-packages (from requests->torchtext) (2022.12.7)\n",
      "Requirement already satisfied: charset-normalizer<4,>=2 in /home/harukary/workspace/gpt_recipe_app/.venv/lib/python3.9/site-packages (from requests->torchtext) (3.0.1)\n",
      "Requirement already satisfied: idna<4,>=2.5 in /home/harukary/workspace/gpt_recipe_app/.venv/lib/python3.9/site-packages (from requests->torchtext) (3.4)\n"
     ]
    }
   ],
   "source": [
    "!pip install torch==1.10.2+cu113 torchtext torchvision==0.11.3+cu113 torchaudio==0.10.2+cu113 -f https://download.pytorch.org/whl/cu113/torch_stable.html"
   ]
  },
  {
   "cell_type": "code",
   "execution_count": 2,
   "metadata": {},
   "outputs": [
    {
     "name": "stdout",
     "output_type": "stream",
     "text": [
      "PyTorch == 1.10.2+cu113\n",
      "CUDA available True\n",
      "CUDA == 11.3\n",
      "1.10.2 cu113\n"
     ]
    },
    {
     "name": "stderr",
     "output_type": "stream",
     "text": [
      "/home/harukary/workspace/gpt_recipe_app/.venv/lib/python3.9/site-packages/tqdm/auto.py:22: TqdmWarning: IProgress not found. Please update jupyter and ipywidgets. See https://ipywidgets.readthedocs.io/en/stable/user_install.html\n",
      "  from .autonotebook import tqdm as notebook_tqdm\n"
     ]
    }
   ],
   "source": [
    "import torch\n",
    "print(\"PyTorch ==\", torch.__version__)\n",
    "print(\"CUDA available\", torch.cuda.is_available())\n",
    "print(\"CUDA ==\", torch.version.cuda)\n",
    "\n",
    "def format_pytorch_version(version):\n",
    "  return version.split('+')[0]\n",
    "\n",
    "TORCH_version = torch.__version__\n",
    "TORCH = format_pytorch_version(TORCH_version)\n",
    "\n",
    "def format_cuda_version(version):\n",
    "  return 'cu' + version.replace('.', '')\n",
    "\n",
    "CUDA_version = torch.version.cuda\n",
    "CUDA = format_cuda_version(CUDA_version)\n",
    "\n",
    "print(TORCH,CUDA)"
   ]
  },
  {
   "cell_type": "code",
   "execution_count": 3,
   "metadata": {},
   "outputs": [],
   "source": [
    "# !pip install torch-scatter     -f https://pytorch-geometric.com/whl/torch-{TORCH}+{CUDA}.html\n",
    "# !pip install torch-sparse      -f https://pytorch-geometric.com/whl/torch-{TORCH}+{CUDA}.html\n",
    "# !pip install torch-geometric"
   ]
  },
  {
   "cell_type": "code",
   "execution_count": 4,
   "metadata": {},
   "outputs": [],
   "source": [
    "# !pip install torch-cluster      -f https://pytorch-geometric.com/whl/torch-{TORCH}+{CUDA}.html"
   ]
  },
  {
   "cell_type": "code",
   "execution_count": 5,
   "metadata": {},
   "outputs": [],
   "source": [
    "# exist = !which ffmpeg\n",
    "# if not exist:\n",
    "#   !curl https://johnvansickle.com/ffmpeg/releases/ffmpeg-release-amd64-static.tar.xz -o ffmpeg.tar.xz && tar -xf ffmpeg.tar.xz && rm ffmpeg.tar.xz\n",
    "#   ffmdir = !find . -iname ffmpeg-*-static\n",
    "#   path = %env PATH\n",
    "#   path = path + ':' + ffmdir[0]\n",
    "#   %env PATH $path\n",
    "# print('')\n",
    "# !which ffmpeg\n",
    "# print('Done!')"
   ]
  }
 ],
 "metadata": {
  "kernelspec": {
   "display_name": ".venv",
   "language": "python",
   "name": "python3"
  },
  "language_info": {
   "codemirror_mode": {
    "name": "ipython",
    "version": 3
   },
   "file_extension": ".py",
   "mimetype": "text/x-python",
   "name": "python",
   "nbconvert_exporter": "python",
   "pygments_lexer": "ipython3",
   "version": "3.9.7"
  },
  "orig_nbformat": 4,
  "vscode": {
   "interpreter": {
    "hash": "9a196dbc33342f67c01613a745ffdb34d35e1de6e0c43cc905192f4a5259ea38"
   }
  }
 },
 "nbformat": 4,
 "nbformat_minor": 2
}
