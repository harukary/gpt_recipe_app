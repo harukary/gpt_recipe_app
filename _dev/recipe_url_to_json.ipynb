{
 "cells": [
  {
   "cell_type": "code",
   "execution_count": 1,
   "metadata": {},
   "outputs": [],
   "source": [
    "# !pip install openai"
   ]
  },
  {
   "cell_type": "code",
   "execution_count": 2,
   "metadata": {},
   "outputs": [],
   "source": [
    "openai_key = open('../open_ai.key','r').read()\n",
    "# print(openai_key)"
   ]
  },
  {
   "cell_type": "code",
   "execution_count": 3,
   "metadata": {},
   "outputs": [],
   "source": [
    "import openai\n",
    "openai.api_key = openai_key\n",
    "def completion(new_message_text:str, settings_text:str = '', past_messages:list = []):\n",
    "    \"\"\"\n",
    "    new_message_text: str ユーザ入力\n",
    "    settings_text: str システム設定（ChatGPTのふるまいを指定する文言）\n",
    "    past_messages: list ユーザとシステムのやりとりの履歴\n",
    "    \"\"\"\n",
    "    if len(past_messages) == 0 and len(settings_text) != 0:\n",
    "        system = {\"role\": \"system\", \"content\": settings_text}\n",
    "        past_messages.append(system)\n",
    "    new_message = {\"role\": \"user\", \"content\": new_message_text}\n",
    "    past_messages.append(new_message)\n",
    "\n",
    "    result = openai.ChatCompletion.create(\n",
    "        model=\"gpt-3.5-turbo\",\n",
    "        messages=past_messages,\n",
    "        max_tokens=2048,\n",
    "    )\n",
    "    response_message = {\"role\": \"assistant\", \"content\": result.choices[0].message.content}\n",
    "    past_messages.append(response_message)\n",
    "    response_message_text = result.choices[0].message.content\n",
    "    return response_message_text, past_messages"
   ]
  },
  {
   "cell_type": "code",
   "execution_count": 4,
   "metadata": {},
   "outputs": [],
   "source": [
    "system_settings = \"\"\"レシピテキストをJson形式のレシピデータを生成してください。\n",
    "では、会話を開始します。\n",
    "\"\"\""
   ]
  },
  {
   "cell_type": "code",
   "execution_count": 5,
   "metadata": {},
   "outputs": [
    {
     "name": "stdout",
     "output_type": "stream",
     "text": [
      "こんにちは。レシピデータを生成するためには、どのような情報が必要ですか？\n"
     ]
    }
   ],
   "source": [
    "new_message, messages = completion(\"こんにちは\", system_settings, [])\n",
    "print(new_message)\n"
   ]
  },
  {
   "cell_type": "code",
   "execution_count": 6,
   "metadata": {},
   "outputs": [],
   "source": [
    "import json\n",
    "recipe_format = json.dumps({\n",
    "    \"title\": \"\",\n",
    "    \"author\": \"\",\n",
    "    \"ingredients\": [\n",
    "        {\"name\": \"\", \"amount\": \"\", \"gram\": 0, \"ml\": 0},\n",
    "    ],\n",
    "    \"appliances\": [\"\"],\n",
    "    \"steps\": [\"\"],\n",
    "    \"cooking_time\": \"\",\n",
    "    \"junre\": [\"\"],\n",
    "    \"nutrition\": {\n",
    "        \"calorie\": 0.0,\n",
    "        \"protein\": 0.0,\n",
    "        \"fat\": 0.0,\n",
    "        \"carbohydrate\": 0.0,\n",
    "        \"sodium\": 0.0,\n",
    "    },\n",
    "})"
   ]
  },
  {
   "cell_type": "code",
   "execution_count": 7,
   "metadata": {},
   "outputs": [],
   "source": [
    "from bs4 import BeautifulSoup\n",
    "import requests\n",
    "\n",
    "url = \"https://www.lettuceclub.net/recipe/dish/22978/\"\n",
    "response = requests.get(url)\n",
    "soup = BeautifulSoup(response.content, \"html.parser\")\n",
    "recipe_text = soup.get_text().replace('\\n\\n','')\n",
    "# print(recipe_text)"
   ]
  },
  {
   "cell_type": "code",
   "execution_count": 8,
   "metadata": {},
   "outputs": [],
   "source": [
    "# 文字数制限があるため、不要部分をカット\n",
    "end = 'レシピランキング'\n",
    "recipe_text = recipe_text[:recipe_text.find(end)]\n",
    "\n",
    "new_message, messages = completion(\n",
    "    f\"以下のレシピを{recipe_format}に従って整形してください。\\n\\n{recipe_text}\",\n",
    "    system_settings, messages\n",
    ")"
   ]
  },
  {
   "cell_type": "code",
   "execution_count": 9,
   "metadata": {},
   "outputs": [
    {
     "name": "stdout",
     "output_type": "stream",
     "text": [
      "こちらのレシピをJson形式に整形したデータは以下のようになります。\n",
      "\n",
      "```json\n",
      "{\n",
      "  \"title\": \"簡単タコライス\",\n",
      "  \"author\": \"Mako(多賀正子)\",\n",
      "  \"ingredients\": [\n",
      "    {\"name\": \"合いびき肉\", \"amount\": \"180g\", \"gram\": 180},\n",
      "    {\"name\": \"トッピング用チーズ\", \"amount\": \"適量\"},\n",
      "    {\"name\": \"玉ねぎのみじん切り\", \"amount\": \"1/3個分\"},\n",
      "    {\"name\": \"トマト\", \"amount\": \"1/2個\"},\n",
      "    {\"name\": \"にんにくの粗みじん切り\", \"amount\": \"１片分\"},\n",
      "    {\"name\": \"レタス\", \"amount\": \"1/3個\"},\n",
      "    {\"name\": \"トルティーヤチップス\", \"amount\": \"適量\"},\n",
      "    {\"name\": \"温かいご飯\", \"amount\": \"どんぶり２杯分\"},\n",
      "    {\"name\": \"トマトケチャップ\"},\n",
      "    {\"name\": \"オリーブ油\", \"amount\": \"大さじ１\"},\n",
      "    {\"name\": \"カレー粉\", \"amount\": \"大さじ2/3〜１\"},\n",
      "    {\"name\": \"ウスターソース\", \"amount\": \"大さじ１\"},\n",
      "    {\"name\": \"しょうゆ\", \"amount\": \"大さじ1/2\"},\n",
      "    {\"name\": \"こしょう\"}\n",
      "  ],\n",
      "  \"appliances\": [\"フライパン\"],\n",
      "  \"steps\": [\n",
      "    \"トマトは１cm角に切って、ケチャップ適量であえる。\",\n",
      "    \"フライパンにオリーブ油大さじ１を熱し、玉ねぎとにんにくを炒める。香りが立ったらひき肉を加えてほぐすようにして炒め、カレー粉大さじ2/3〜１、ケチャップ大さじ２、ソース大さじ１、しょうゆ大さじ1/2、こしょう少々を加えて全体に味がなじむまで炒める。\",\n",
      "    \"器にご飯を盛り、レタスを食べやすい大きさにちぎってのせ、チーズを散らす。２とトマトものせ、トルティーヤチップスを砕いてのせる。好みで粗びき黒こしょうやタバスコをふっても。\"\n",
      "  ],\n",
      "  \"cooking_time\": \"15分\",\n",
      "  \"junre\": [\"おかず\", \"主食\", \"米・パン\"],\n",
      "  \"nutrition\": {\n",
      "    \"calorie\": 742,\n",
      "    \"protein\": 2.4,\n",
      "    \"fat\": 0.0,\n",
      "    \"carbohydrate\": 0.0,\n",
      "    \"sodium\": 0.0\n",
      "  }\n",
      "}\n",
      "```\n"
     ]
    }
   ],
   "source": [
    "print(new_message)"
   ]
  },
  {
   "cell_type": "code",
   "execution_count": 10,
   "metadata": {},
   "outputs": [
    {
     "name": "stdout",
     "output_type": "stream",
     "text": [
      "{\n",
      "    \"title\": \"簡単タコライス\",\n",
      "    \"author\": \"Mako(多賀正子)\",\n",
      "    \"ingredients\": [\n",
      "        {\n",
      "            \"name\": \"合いびき肉\",\n",
      "            \"amount\": \"180g\",\n",
      "            \"gram\": 180\n",
      "        },\n",
      "        {\n",
      "            \"name\": \"トッピング用チーズ\",\n",
      "            \"amount\": \"適量\"\n",
      "        },\n",
      "        {\n",
      "            \"name\": \"玉ねぎのみじん切り\",\n",
      "            \"amount\": \"1/3個分\"\n",
      "        },\n",
      "        {\n",
      "            \"name\": \"トマト\",\n",
      "            \"amount\": \"1/2個\"\n",
      "        },\n",
      "        {\n",
      "            \"name\": \"にんにくの粗みじん切り\",\n",
      "            \"amount\": \"１片分\"\n",
      "        },\n",
      "        {\n",
      "            \"name\": \"レタス\",\n",
      "            \"amount\": \"1/3個\"\n",
      "        },\n",
      "        {\n",
      "            \"name\": \"トルティーヤチップス\",\n",
      "            \"amount\": \"適量\"\n",
      "        },\n",
      "        {\n",
      "            \"name\": \"温かいご飯\",\n",
      "            \"amount\": \"どんぶり２杯分\"\n",
      "        },\n",
      "        {\n",
      "            \"name\": \"トマトケチャップ\"\n",
      "        },\n",
      "        {\n",
      "            \"name\": \"オリーブ油\",\n",
      "            \"amount\": \"大さじ１\"\n",
      "        },\n",
      "        {\n",
      "            \"name\": \"カレー粉\",\n",
      "            \"amount\": \"大さじ2/3〜１\"\n",
      "        },\n",
      "        {\n",
      "            \"name\": \"ウスターソース\",\n",
      "            \"amount\": \"大さじ１\"\n",
      "        },\n",
      "        {\n",
      "            \"name\": \"しょうゆ\",\n",
      "            \"amount\": \"大さじ1/2\"\n",
      "        },\n",
      "        {\n",
      "            \"name\": \"こしょう\"\n",
      "        }\n",
      "    ],\n",
      "    \"appliances\": [\n",
      "        \"フライパン\"\n",
      "    ],\n",
      "    \"steps\": [\n",
      "        \"トマトは１cm角に切って、ケチャップ適量であえる。\",\n",
      "        \"フライパンにオリーブ油大さじ１を熱し、玉ねぎとにんにくを炒める。香りが立ったらひき肉を加えてほぐすようにして炒め、カレー粉大さじ2/3〜１、ケチャップ大さじ２、ソース大さじ１、しょうゆ大さじ1/2、こしょう少々を加えて全体に味がなじむまで炒める。\",\n",
      "        \"器にご飯を盛り、レタスを食べやすい大きさにちぎってのせ、チーズを散らす。２とトマトものせ、トルティーヤチップスを砕いてのせる。好みで粗びき黒こしょうやタバスコをふっても。\"\n",
      "    ],\n",
      "    \"cooking_time\": \"15分\",\n",
      "    \"junre\": [\n",
      "        \"おかず\",\n",
      "        \"主食\",\n",
      "        \"米・パン\"\n",
      "    ],\n",
      "    \"nutrition\": {\n",
      "        \"calorie\": 742,\n",
      "        \"protein\": 2.4,\n",
      "        \"fat\": 0.0,\n",
      "        \"carbohydrate\": 0.0,\n",
      "        \"sodium\": 0.0\n",
      "    }\n",
      "}\n"
     ]
    }
   ],
   "source": [
    "import re\n",
    "pattern = r'\\{.*\\}'\n",
    "\n",
    "# 正規表現を使用してJSON部分のみを抽出する\n",
    "match = re.search(pattern, new_message, re.DOTALL)\n",
    "if match:\n",
    "    json_string = match.group()\n",
    "    json_obj = json.dumps(json.loads(json_string),indent=4,ensure_ascii=False)\n",
    "    print(json_obj)"
   ]
  }
 ],
 "metadata": {
  "kernelspec": {
   "display_name": ".venv",
   "language": "python",
   "name": "python3"
  },
  "language_info": {
   "codemirror_mode": {
    "name": "ipython",
    "version": 3
   },
   "file_extension": ".py",
   "mimetype": "text/x-python",
   "name": "python",
   "nbconvert_exporter": "python",
   "pygments_lexer": "ipython3",
   "version": "3.9.7"
  },
  "orig_nbformat": 4,
  "vscode": {
   "interpreter": {
    "hash": "9a196dbc33342f67c01613a745ffdb34d35e1de6e0c43cc905192f4a5259ea38"
   }
  }
 },
 "nbformat": 4,
 "nbformat_minor": 2
}
