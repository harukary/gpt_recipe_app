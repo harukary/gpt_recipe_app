{
 "cells": [
  {
   "cell_type": "code",
   "execution_count": 1,
   "metadata": {},
   "outputs": [],
   "source": [
    "openai_key = open('../open_ai.key','r').read()\n",
    "import openai\n",
    "openai.api_key = openai_key\n",
    "def completion(new_message_text:str, settings_text:str = '', past_messages:list = []):\n",
    "    \"\"\"\n",
    "    new_message_text: str ユーザ入力\n",
    "    settings_text: str システム設定（ChatGPTのふるまいを指定する文言）\n",
    "    past_messages: list ユーザとシステムのやりとりの履歴\n",
    "    \"\"\"\n",
    "    if len(past_messages) == 0 and len(settings_text) != 0:\n",
    "        system = {\"role\": \"system\", \"content\": settings_text}\n",
    "        past_messages.append(system)\n",
    "    new_message = {\"role\": \"user\", \"content\": new_message_text}\n",
    "    past_messages.append(new_message)\n",
    "\n",
    "    result = openai.ChatCompletion.create(\n",
    "        model=\"gpt-3.5-turbo\",\n",
    "        messages=past_messages,\n",
    "        max_tokens=1024,\n",
    "        # temparature=0.5,\n",
    "    )\n",
    "    response_message = {\"role\": \"assistant\", \"content\": result.choices[0].message.content}\n",
    "    past_messages.append(response_message)\n",
    "    response_message_text = result.choices[0].message.content\n",
    "    return response_message_text, past_messages\n",
    "\n",
    "system_settings = \"\"\"新しいサービスについて議論します。既存のサービスをもとにコメントをしてください。\"\"\""
   ]
  },
  {
   "cell_type": "code",
   "execution_count": 4,
   "metadata": {},
   "outputs": [
    {
     "name": "stdout",
     "output_type": "stream",
     "text": [
      "このサービスは、旅行会社が提供する旅行プランとは異なりますが、旅行会社の強みである現地情報や支援を組み合わせることで、さらに充実した旅行体験が提供できる可能性があります。また、新たな観光地の発掘や、旅行に関するニーズの把握にもつながると考えられます。ただし、旅行会社が提供する契約や保険などのサポートには及ばないため、両者が連携することでより良いサービス提供ができると考えられます。\n"
     ]
    }
   ],
   "source": [
    "prompt = \"\"\"\n",
    "GoogleMapは、地理的な情報を使った情報支援をすることで、移動の支援を行いました。\n",
    "一方、私たちは、家電や自動車や物品などのモノと、地理的な情報を組み合わせることで、くらしの体験を提供します。\n",
    "くらしには、休日の過ごし方や、日帰りの旅行、国内旅行や海外旅行など、様々な形があります。\n",
    "例えば、一眼レフカメラと、よい景色がある場所への旅のプランを提供することで、ユーザは手軽にカメラ旅のよさを体験できます。\n",
    "例えば、食材とスモーク器、レシピ、近場の日帰りキャンプ場の情報を提供することで、ユーザは手軽にスモーク料理のよさを体験できます。\n",
    "例えば、旅行の行き先に応じて、ホテルやレストラン、観光地の情報や、寒さや暑さへの対策グッズなどを提供することで、より快適に観光地のよさを体験できます。\n",
    "このサービスを利用するユーザは、\n",
    "・高額な製品を買わずにその価値をお試しすることができ、本当に所有したいものを見つけることができます。\n",
    "・また、その場所を楽しむためのモノ・情報を得ることで最大限楽しむことができ、本当に好きな場所を見つけることができます。\n",
    "・このようにして、余暇の時間に自分が本当にやりたいことを見つけることができます。\n",
    "これによりメーカーは、製品の価値をより正確にユーザに届けることができ、真のファンを増やすことにつながります。\n",
    "また、旅行会社は、\n",
    "このサービスについて、いかがでしょうか？\n",
    "\"\"\"\n",
    "new_message, messages = completion(prompt, system_settings, [])\n",
    "print(new_message)"
   ]
  },
  {
   "cell_type": "code",
   "execution_count": null,
   "metadata": {},
   "outputs": [],
   "source": []
  }
 ],
 "metadata": {
  "kernelspec": {
   "display_name": ".venv",
   "language": "python",
   "name": "python3"
  },
  "language_info": {
   "codemirror_mode": {
    "name": "ipython",
    "version": 3
   },
   "file_extension": ".py",
   "mimetype": "text/x-python",
   "name": "python",
   "nbconvert_exporter": "python",
   "pygments_lexer": "ipython3",
   "version": "3.9.7"
  },
  "orig_nbformat": 4
 },
 "nbformat": 4,
 "nbformat_minor": 2
}
