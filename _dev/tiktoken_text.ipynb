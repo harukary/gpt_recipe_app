{
 "cells": [
  {
   "cell_type": "code",
   "execution_count": 1,
   "metadata": {},
   "outputs": [
    {
     "name": "stdout",
     "output_type": "stream",
     "text": [
      "129 0.0005717277526855469\n",
      "[198, 37906, 30965, 16253, 26095, 9263, 25795, 31758, 162, 249, 116, 18566, 28134, 31917, 46777, 43357, 18566, 16764, 198, 23877, 229, 27764, 245, 26344, 245, 5641, 12675, 43302, 31758, 17739, 98, 27950, 249, 30201, 22180, 28134, 23513, 12675, 43302, 37863, 227, 15474, 227, 101, 23877, 229, 27764, 245, 46763, 108, 35585, 23877, 229, 27764, 245, 46763, 108, 26344, 114, 163, 112, 226, 28618, 20998, 236, 30159, 25748, 1792, 230, 29557, 28618, 17358, 223, 163, 112, 254, 31758, 30298, 232, 165, 247, 97, 22180, 28134, 32573, 242, 22180, 28134, 31917, 46777, 43357, 18566, 16764, 17358, 223, 163, 112, 254, 15474, 231, 232, 165, 247, 97, 31676, 12675, 43302, 15474, 227, 230, 165, 254, 255, 27370, 36853, 165, 254, 228, 28618, 26193, 234, 33180, 28134, 31917, 46777, 43357, 18566, 16764, 198]\n"
     ]
    }
   ],
   "source": [
    "import tiktoken\n",
    "import time\n",
    "# エンコード\n",
    "enc = tiktoken.get_encoding(\"gpt2\")\n",
    "start = time.time()\n",
    "tokens = enc.encode(\"\"\"\n",
    "Pythonプログラムを書いてください。\n",
    "文字列のリストを入力として、リスト内の全文字数が文字数制約に収まるように要素を削除して返してください。要素の削除はリストの先頭から順に行ってください。\n",
    "\"\"\")\n",
    "lap = time.time() - start\n",
    "print(len(tokens),lap)\n",
    "print(tokens)"
   ]
  },
  {
   "cell_type": "code",
   "execution_count": 20,
   "metadata": {},
   "outputs": [],
   "source": [
    "MAX_TOKEN = 1024\n",
    "max_tokens = 512\n",
    "\n",
    "def organize(message,past_messages):\n",
    "    past_messages.append(message)\n",
    "    tokens = 0\n",
    "    for i,m in enumerate(reversed(past_messages)):\n",
    "        tokens += len(m)\n",
    "        print(tokens,m[0])\n",
    "        if tokens > MAX_TOKEN - max_tokens:\n",
    "            return past_messages[-i:]\n",
    "    return past_messages"
   ]
  },
  {
   "cell_type": "code",
   "execution_count": 21,
   "metadata": {},
   "outputs": [
    {
     "name": "stdout",
     "output_type": "stream",
     "text": [
      "100 d\n",
      "200 c\n",
      "300 b\n",
      "400 a\n",
      "['a', 'b', 'c', 'd']\n"
     ]
    }
   ],
   "source": [
    "str_list = ['a'*100,'b'*100,'c'*100]\n",
    "msgs = organize('d'*100,str_list)\n",
    "print([m[0] for m in msgs])"
   ]
  },
  {
   "cell_type": "code",
   "execution_count": 22,
   "metadata": {},
   "outputs": [
    {
     "name": "stdout",
     "output_type": "stream",
     "text": [
      "100 e\n",
      "200 d\n",
      "300 c\n",
      "400 b\n",
      "500 a\n",
      "['a', 'b', 'c', 'd', 'e']\n"
     ]
    }
   ],
   "source": [
    "msgs = organize('e'*100,str_list)\n",
    "print([m[0] for m in msgs])"
   ]
  },
  {
   "cell_type": "code",
   "execution_count": 23,
   "metadata": {},
   "outputs": [
    {
     "name": "stdout",
     "output_type": "stream",
     "text": [
      "100 f\n",
      "200 e\n",
      "300 d\n",
      "400 c\n",
      "500 b\n",
      "600 a\n",
      "['b', 'c', 'd', 'e', 'f']\n"
     ]
    }
   ],
   "source": [
    "msgs = organize('f'*100,str_list)\n",
    "print([m[0] for m in msgs])"
   ]
  }
 ],
 "metadata": {
  "kernelspec": {
   "display_name": ".venv",
   "language": "python",
   "name": "python3"
  },
  "language_info": {
   "codemirror_mode": {
    "name": "ipython",
    "version": 3
   },
   "file_extension": ".py",
   "mimetype": "text/x-python",
   "name": "python",
   "nbconvert_exporter": "python",
   "pygments_lexer": "ipython3",
   "version": "3.9.7"
  },
  "orig_nbformat": 4,
  "vscode": {
   "interpreter": {
    "hash": "50923522f41d4bdc63bd724e8aefd24d8ff7da8a50c74efd08da04c5cdd1dd94"
   }
  }
 },
 "nbformat": 4,
 "nbformat_minor": 2
}
